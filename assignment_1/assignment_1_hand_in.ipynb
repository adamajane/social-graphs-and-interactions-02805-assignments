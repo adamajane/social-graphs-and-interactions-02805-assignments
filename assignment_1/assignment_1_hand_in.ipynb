{
 "cells": [
  {
   "cell_type": "markdown",
   "id": "c1fe9ff6",
   "metadata": {},
   "source": [
    "# Social Graphs and Interactions (02805) - Assignment 1\n",
    "## Group 107\n",
    "| Parts                   | Contributor          |\n",
    "|-------------------------|----------------------|\n",
    "| Assignment 1.1:         | Adam Ajane (s211048) |\n",
    "| Assignment 1.2, part 2: | Arun Kumar Dhuraisamy (s242529) |\n",
    "| Assignment 1.2, part 3: |   Vasiliki Tsanaktsidou (s232489)                   |"
   ]
  },
  {
   "cell_type": "code",
   "execution_count": 1,
   "id": "b2533357",
   "metadata": {},
   "outputs": [],
   "source": [
    "# Imports\n",
    "import networkx as nx\n",
    "import numpy as np\n",
    "from matplotlib import pyplot as plt\n",
    "from matplotlib.colors import LinearSegmentedColormap\n",
    "import seaborn as sns\n",
    "import warnings\n",
    "import os\n",
    "import requests\n",
    "from io import BytesIO"
   ]
  },
  {
   "cell_type": "markdown",
   "id": "6ae3e883",
   "metadata": {},
   "source": [
    "## Assignment 1.1: Exploring the WS and BA Models"
   ]
  },
  {
   "cell_type": "markdown",
   "id": "b78c2761",
   "metadata": {},
   "source": [
    "### Part 1: Watts-Strogatz (WS) and Barabasi-Albert (BA) Models"
   ]
  },
  {
   "cell_type": "markdown",
   "id": "93df0899",
   "metadata": {},
   "source": [
    "#### Exercise 1.1: Questions about Chapter 3, Sections 3.5-3.10"
   ]
  },
  {
   "cell_type": "markdown",
   "id": "21a63778",
   "metadata": {},
   "source": [
    "*Write answers here...*"
   ]
  },
  {
   "cell_type": "markdown",
   "id": "758d3e9a",
   "metadata": {},
   "source": [
    "#### Exercise 1.2: The Watts-Strigatz (WS) Model"
   ]
  },
  {
   "cell_type": "code",
   "execution_count": null,
   "id": "ccc40346",
   "metadata": {},
   "outputs": [],
   "source": [
    "# Network properties\n",
    "N = 300\n",
    "k = 4\n",
    "p_values = [0, 0.1, 1]\n",
    "\n",
    "# Exercise 1.2.1\n",
    "\n",
    "# Create WS graphs for different p values\n",
    "WS_graphs = {}\n",
    "for p in p_values:\n",
    "    WS_graphs[p] = nx.watts_strogatz_graph(N, k, p)\n",
    "\n",
    "# Calculates shortest path of the 3 graphs\n",
    "for g in WS_graphs:\n",
    "    print(\n",
    "        f\"Shortest path of graph p={g}: {nx.average_shortest_path_length(WS_graphs[g]):.2f}\"\n",
    "    )\n",
    "\n",
    "plt.figure(figsize=(18, 6))\n",
    "layouts = [nx.spring_layout, nx.circular_layout, nx.kamada_kawai_layout]\n",
    "titles = [f\"WS Graph (p={p})\" for p in p_values]\n",
    "\n",
    "for i, p in enumerate(p_values):\n",
    "    plt.subplot(1, 3, i + 1)\n",
    "    pos = layouts[i](WS_graphs[p], seed=42) if layouts[i] == nx.spring_layout else layouts[i](WS_graphs[p])\n",
    "    nx.draw(\n",
    "        WS_graphs[p],\n",
    "        pos,\n",
    "        node_size=30,\n",
    "        node_color=\"#a9cae0\",\n",
    "        edge_color=\"gray\",\n",
    "        with_labels=False,\n",
    "        alpha=0.8,\n",
    "    )\n",
    "    plt.title(titles[i])\n",
    "    plt.axis(\"off\")\n",
    "\n",
    "plt.tight_layout()\n",
    "plt.show()"
   ]
  },
  {
   "cell_type": "markdown",
   "id": "77ffaf63",
   "metadata": {},
   "source": [
    "Exercise 1.2.2\n",
    "\n",
    "At p = 1, we go from a structured network to a completely random one. At lower values of p, we have more \"rigid\" or regular networks. At p = 0, we have a regular lattice, and at p = 0.1, we have a model of the small-world problem. At p = 1, the structure in the network disintegrates and becomes completely random. The shortest path is rather low due to the tendency of random networks having short paths."
   ]
  },
  {
   "cell_type": "code",
   "execution_count": null,
   "id": "2ab75106",
   "metadata": {},
   "outputs": [],
   "source": [
    "# Exercise 1.2.3\n",
    "\n",
    "# Networks with various values of p\n",
    "dense_p_values = [i / 100 for i in range(0, 101)]  # p-values from 0.00 to 1.00\n",
    "ws_path_lengths = {}\n",
    "\n",
    "for p in dense_p_values:\n",
    "    G_tmp = nx.watts_strogatz_graph(N, k, p)\n",
    "    ws_path_lengths[p] = nx.average_shortest_path_length(G_tmp)\n",
    "\n",
    "for p in dense_p_values:\n",
    "    print(f\"p={p:.2f} avg_shortest_path={ws_path_lengths[p]:.4f}\")"
   ]
  },
  {
   "cell_type": "markdown",
   "id": "f805f209",
   "metadata": {},
   "source": [
    "In the fully randomized network ($p = 1$) from exercise 1.2.1, we get a shortest path of $\\approx 4.30$. At around $p = 0.31$, we get a shortest path of $4.9109$ and consistently get a distance below $5$ as we increase $p$. At $p = 0.68$ and subsequent increments in $p$, we are steadily remain in the $4.30-40$ range."
   ]
  },
  {
   "cell_type": "code",
   "execution_count": null,
   "id": "e853d0e5",
   "metadata": {},
   "outputs": [],
   "source": [
    "# Exercsie 1.2.4\n",
    "\n",
    "# Network properties\n",
    "N_2 = 500\n",
    "k_2 = 4\n",
    "p_2_values = [0, 0.01, 0.03, 0.04, 0.1, 0.2]\n",
    "\n",
    "WS_graphs_2 = {}\n",
    "\n",
    "# Generate 50 graphs for each of the p-values\n",
    "for p in p_2_values:\n",
    "    WS_graphs_2[p] = [nx.watts_strogatz_graph(N_2, k_2, p) for _ in range(50)]\n",
    "\n",
    "avg_distances = []\n",
    "std_devs = []\n",
    "\n",
    "# Calculate average shortest path and standard deviation for each graph\n",
    "for p in p_2_values:\n",
    "    avg_paths = [nx.average_shortest_path_length(_) for _ in WS_graphs_2[p]]\n",
    "    avg_path = sum(avg_paths) / len(avg_paths)\n",
    "    avg_distances.append(np.mean(avg_paths))\n",
    "    std_dev = np.std(avg_paths)\n",
    "    std_devs.append(np.std(avg_paths))\n",
    "    print(f\"Average distance of graph p={p}: {avg_path:.2f}\")\n",
    "    print(f\"Standard deviation of shortest path for p={p}: {std_dev:.2f}\")\n",
    "\n",
    "# Plotting distances\n",
    "plt.errorbar(\n",
    "    p_2_values, avg_distances, yerr=std_devs, fmt=\"o-\", capsize=5, color=\"black\"\n",
    ")\n",
    "plt.xlabel(\"Probabilities (p)\")\n",
    "plt.ylabel(\"Average shortest path length (<d>)\")\n",
    "plt.title(\"WS Model: Average Shortest Path vs. Probabilities\")\n",
    "plt.grid(alpha=0.3)\n",
    "plt.show()"
   ]
  },
  {
   "cell_type": "markdown",
   "id": "700c7dea",
   "metadata": {},
   "source": [
    "#### Exercise 1.2: The Barabasi-Albert (BA) Model"
   ]
  },
  {
   "cell_type": "code",
   "execution_count": null,
   "id": "a0884e8e",
   "metadata": {},
   "outputs": [],
   "source": [
    "# Barabasi-Albert graph\n",
    "BA = nx.Graph()\n",
    "\n",
    "BA.add_edges_from([(1, 2)])\n",
    "\n",
    "# Collected degrees (dictionary)\n",
    "degrees = dict(BA.degree())\n",
    "node_sizes = []\n",
    "\n",
    "\n",
    "def preferential_attachment():\n",
    "    global degrees\n",
    "    global node_sizes\n",
    "\n",
    "    # Get total degree sum\n",
    "    total_degree = sum(degrees.values())\n",
    "\n",
    "    # Calculate connection probabilities\n",
    "    probabilities = [degrees[node] / total_degree for node in BA.nodes()]\n",
    "\n",
    "    # Node chosen based on preferential attachment\n",
    "    chosen_node = np.random.choice(list(BA.nodes()), p=probabilities)\n",
    "\n",
    "    # Add and connect new node to chosen node\n",
    "    new_node = max(BA.nodes()) + 1\n",
    "    BA.add_edge(new_node, chosen_node)\n",
    "\n",
    "    # Update degrees dictionary\n",
    "    degrees = dict(BA.degree())\n",
    "    node_sizes = [degrees[node] * 20 for node in BA.nodes()]\n",
    "\n",
    "    return node_sizes\n",
    "\n",
    "\n",
    "# 100 node network\n",
    "for i in range(98):\n",
    "    preferential_attachment()\n",
    "\n",
    "# Plotting 100 node graph\n",
    "plt.figure()\n",
    "plt.title(\"Graph with 100 nodes\")\n",
    "nx.draw(BA, node_size=node_sizes, node_color=\"#a9cae0\", edgecolors=\"black\")\n",
    "plt.grid(alpha=0.3)\n",
    "plt.show()\n",
    "\n",
    "# 5000 node network\n",
    "for i in range(4900):\n",
    "    preferential_attachment()\n",
    "\n",
    "\n",
    "# Plotting 5000 node graph\n",
    "plt.figure()\n",
    "plt.title(\"Graph with 5000 nodes\")\n",
    "nx.draw(BA, node_size=node_sizes, node_color=\"#a9cae0\", edgecolors=\"black\")\n",
    "plt.show()\n",
    "# Image(\"ba-model-100-nodes.png\")\n",
    "\n",
    "print(\"Min degree:\", min(degrees.values()))\n",
    "print(\"Max degree:\", max(degrees.values()))\n",
    "\n",
    "# Bin degree distribution with np.histogram\n",
    "degree_values = list(degrees.values())\n",
    "bins = (\n",
    "    np.arange(min(degree_values), max(degree_values) + 2) - 0.5\n",
    ")  # bin edges for integer degrees\n",
    "hist, bin_edges = np.histogram(degree_values, bins=bins)\n",
    "\n",
    "# Plot degree distribution\n",
    "plt.figure()\n",
    "plt.bar(bin_edges[:-1] + 0.5, hist, width=1, edgecolor=\"black\")\n",
    "plt.xlabel(\"Degree\")\n",
    "plt.ylabel(\"Number of nodes\")\n",
    "plt.title(\"Degree Distribution (Binned)\")\n",
    "plt.grid(alpha=0.3)\n",
    "plt.show()\n",
    "\n",
    "# Plot degree distribution: linear axes (points)\n",
    "plt.figure()\n",
    "plt.plot(bin_edges[:-1] + 0.5, hist, \"o\", markersize=5)\n",
    "plt.xlabel(\"Degree\")\n",
    "plt.ylabel(\"Number of nodes\")\n",
    "plt.title(\"Degree Distribution (Linear Scale, Points)\")\n",
    "plt.grid(alpha=0.3)\n",
    "plt.show()\n",
    "\n",
    "# Plot degree distribution: log-log axes (points)\n",
    "plt.figure()\n",
    "plt.plot(bin_edges[:-1] + 0.5, hist, \"o\", markersize=5)\n",
    "plt.xscale(\"log\")\n",
    "plt.yscale(\"log\")\n",
    "plt.xlabel(\"Degree (log scale)\")\n",
    "plt.ylabel(\"Number of nodes (log scale)\")\n",
    "plt.title(\"Degree Distribution (Log-Log Scale, Points)\")\n",
    "plt.grid(alpha=0.3)\n",
    "plt.show()"
   ]
  },
  {
   "cell_type": "markdown",
   "id": "cb95837b",
   "metadata": {},
   "source": [
    "# Assignment 1.2: Stats and visualization of the Rock Music Network"
   ]
  },
  {
   "cell_type": "markdown",
   "id": "83f7ce9c",
   "metadata": {},
   "source": [
    "#### Part 2: Let's build a simple network and summarise the statistical analysis and plots"
   ]
  },
  {
   "cell_type": "markdown",
   "id": "22940107",
   "metadata": {},
   "source": [
    "#### Process Breakdown: \n",
    "\n",
    "The performer network was built from the List of mainstream rock performers page on Wikipedia. The wikitext of the page was fetched through the Wikipedia API, and a regular expression was applied to extract all internal wiki-links. To avoid including irrelevant pages, links starting with prefixes such as Category: (e.g., Category:Rock music groups), Template: (e.g., Template:Rock music), File: (e.g., File:Band_photo.jpg), or Wikipedia: (e.g., Wikipedia:Neutral point of view) were filtered out. A manual exclusion list was also created to remove links to general concepts like rock music, Heavy Metal, singles, or album charts. These were identified by checking ambiguous cases directly on Wikipedia. After this filtering, the dataset contained 488 unique performers. For each artist, the full wikitext page was downloaded and stored as a text file. Filename sanitization was necessary to handle problematic characters, for example replacing the slash in AC/DC with an underscore. This solved one of the main technical difficulties in the data collection stage.\n",
    "\n",
    "Edges were generated by scanning each text file for outgoing wiki-links, keeping only those that pointed to other performers in the curated list. Multiple mentions to the same artist were treated as a single edge, and self-loops were removed. The resulting directed graph had 488 nodes and 7,328 edges. Node attributes such as the word count of the Wikipedia entry were added, and structural measures including in-degree, out-degree, PageRank, and betweenness centrality were calculated. To focus on the main structure, isolated nodes were removed and the largest weakly connected component was selected for analysis.\n",
    "\n",
    "Finally, the network was exported to the GEXF format, which preserves both the structure and the node attributes. This allowed the dataset to be uploaded to GitHub, from where it directly in the Jupyter Notebook for the statistical analysis and plots."
   ]
  },
  {
   "cell_type": "markdown",
   "id": "d4c16137",
   "metadata": {},
   "source": [
    "#### Fetching the network from Github"
   ]
  },
  {
   "cell_type": "code",
   "execution_count": 2,
   "id": "484cbcbf",
   "metadata": {},
   "outputs": [
    {
     "name": "stdout",
     "output_type": "stream",
     "text": [
      "Loaded remote graph: 484 nodes, 7328 edges\n"
     ]
    }
   ],
   "source": [
    "url = \"https://raw.githubusercontent.com/adamajane/social-graphs-and-interactions-02805-assignments/refs/heads/main/assignment_1/Files/artists_graph_with_stats.gexf\"\n",
    "\n",
    "# Fetch file from GitHub\n",
    "response = requests.get(url)\n",
    "response.raise_for_status()  \n",
    "\n",
    "# Load into NetworkX\n",
    "G = nx.read_gexf(BytesIO(response.content))\n",
    "print(f\"Loaded remote graph: {G.number_of_nodes()} nodes, {G.number_of_edges()} edges\")\n"
   ]
  },
  {
   "cell_type": "markdown",
   "id": "ef7b4121",
   "metadata": {},
   "source": [
    "#### Summary Statistics and Analysis"
   ]
  },
  {
   "cell_type": "markdown",
   "id": "ad07d26d",
   "metadata": {},
   "source": [
    "##### Basic statistics - Number of links and nodes and also average degree.  "
   ]
  },
  {
   "cell_type": "code",
   "execution_count": 3,
   "id": "041e5c31",
   "metadata": {},
   "outputs": [
    {
     "name": "stdout",
     "output_type": "stream",
     "text": [
      "Number of nodes in the network: 484\n",
      "Number of links in the network: 7328\n",
      "Average degree: 15.140495867768594\n"
     ]
    }
   ],
   "source": [
    "# Basic stats\n",
    "num_nodes = G.number_of_nodes()\n",
    "num_edges = G.number_of_edges()\n",
    "avg_degree = G.number_of_edges() / G.number_of_nodes()\n",
    "\n",
    "print(f\"Number of nodes in the network: {num_nodes}\")\n",
    "print(f\"Number of links in the network: {num_edges}\")\n",
    "print(\"Average degree:\", avg_degree)"
   ]
  },
  {
   "cell_type": "markdown",
   "id": "72073ce8",
   "metadata": {},
   "source": [
    "The network contains 484 nodes (artists) and 7,328 directed edges (links between artists). This gives an average degree of about 15.1, meaning that, on average, each artist’s Wikipedia page links to around 15 other performers in the network."
   ]
  },
  {
   "cell_type": "markdown",
   "id": "9a1d73b3",
   "metadata": {},
   "source": [
    "##### Density, Clustering, Diameter – Show how tightly artists are linked, how much local grouping exists, and the maximum distance between any two artists."
   ]
  },
  {
   "cell_type": "code",
   "execution_count": null,
   "id": "e7bb8b68",
   "metadata": {},
   "outputs": [
    {
     "name": "stdout",
     "output_type": "stream",
     "text": [
      "Density of the network: 0.0313\n",
      "Average clustering coefficient: 0.2353\n",
      "Diameter of the largest component: 5\n"
     ]
    }
   ],
   "source": [
    "density = nx.density(G)\n",
    "clustering = nx.average_clustering(G.to_undirected())\n",
    "\n",
    "# Diameter of largest weakly connected component\n",
    "largest_component = max(nx.weakly_connected_components(G), key=len)\n",
    "H = G.subgraph(largest_component).to_undirected()\n",
    "diameter = nx.diameter(H)\n",
    "\n",
    "print(f\"Density of the network: {density:.4f}\")\n",
    "print(f\"Average clustering coefficient: {clustering:.4f}\")\n",
    "print(f\"Diameter of the largest component: {diameter}\")"
   ]
  },
  {
   "cell_type": "markdown",
   "id": "a0a9ccb7",
   "metadata": {},
   "source": [
    "The network has a density of 0.0313, meaning it is quite sparse, with only about 3% of all possible links present. The average clustering coefficient is 0.2353, which shows a moderate level of local grouping between artists. The diameter of the largest component is 5, so even in the biggest part of the network, any two artists are at most five steps apart."
   ]
  },
  {
   "cell_type": "markdown",
   "id": "78934a53",
   "metadata": {},
   "source": [
    "##### Reciprocity - Tells how many links are mutual between artists"
   ]
  },
  {
   "cell_type": "code",
   "execution_count": 5,
   "id": "0edb74c9",
   "metadata": {},
   "outputs": [
    {
     "name": "stdout",
     "output_type": "stream",
     "text": [
      "Reciprocity of the network: 0.3556\n"
     ]
    }
   ],
   "source": [
    "# Reciprocity: fraction of edges that are mutual (A→B and B→A)\n",
    "reciprocity = nx.reciprocity(G)\n",
    "print(f\"Reciprocity of the network: {reciprocity:.4f}\")"
   ]
  },
  {
   "cell_type": "markdown",
   "id": "c43604d5",
   "metadata": {},
   "source": [
    "The reciprocity of the network is 0.3556, which means that about 36% of the links between artists are mutual i.e., if one artist’s page links to another, there is roughly a one-third chance that the second artist also links back. This suggests that while many connections are one-way references, there is still a noticeable amount of two-way linking between performers."
   ]
  },
  {
   "cell_type": "markdown",
   "id": "73d41066",
   "metadata": {},
   "source": [
    "##### Components - Shows how many disconnected groups exist and their sizes"
   ]
  },
  {
   "cell_type": "code",
   "execution_count": 6,
   "id": "2bd48e42",
   "metadata": {},
   "outputs": [
    {
     "name": "stdout",
     "output_type": "stream",
     "text": [
      "Weakly connected components: 1 (largest size = 484)\n",
      "Strongly connected components: 24 (largest size = 461)\n"
     ]
    }
   ],
   "source": [
    "# Connected components: weakly and strongly connected parts of the network\n",
    "num_weak = nx.number_weakly_connected_components(G)\n",
    "num_strong = nx.number_strongly_connected_components(G)\n",
    "largest_weak_size = len(max(nx.weakly_connected_components(G), key=len))\n",
    "largest_strong_size = len(max(nx.strongly_connected_components(G), key=len))\n",
    "\n",
    "print(f\"Weakly connected components: {num_weak} (largest size = {largest_weak_size})\")\n",
    "print(f\"Strongly connected components: {num_strong} (largest size = {largest_strong_size})\")"
   ]
  },
  {
   "cell_type": "markdown",
   "id": "0d3ba04a",
   "metadata": {},
   "source": [
    "The network has 1 weakly connected component, meaning all 484 artists are at least indirectly connected if edge directions are ignored. There are 24 strongly connected components, with the largest containing 461 artists, which shows that most artists are part of a big core where links can be followed in both directions, while a few smaller groups remain more isolated."
   ]
  },
  {
   "cell_type": "markdown",
   "id": "717920cb",
   "metadata": {},
   "source": [
    "##### Average Shortest Path Length - Gives the “typical” distance between artists, complementing diameter"
   ]
  },
  {
   "cell_type": "code",
   "execution_count": 7,
   "id": "5441451c",
   "metadata": {},
   "outputs": [
    {
     "name": "stdout",
     "output_type": "stream",
     "text": [
      "Average shortest path length (largest component, undirected): 2.3693\n"
     ]
    }
   ],
   "source": [
    "# Average shortest path length on the largest weakly connected component (undirected)\n",
    "H = G.subgraph(max(nx.weakly_connected_components(G), key=len)).to_undirected()\n",
    "avg_path_len = nx.average_shortest_path_length(H)\n",
    "print(f\"Average shortest path length (largest component, undirected): {avg_path_len:.4f}\")"
   ]
  },
  {
   "cell_type": "markdown",
   "id": "39abe33c",
   "metadata": {},
   "source": [
    "The average shortest path length in the largest component is 2.37, which means that on average, any two artists in the network can be connected through fewer than three steps. This highlights the small-world nature of the network, where artists are typically only a couple of links apart."
   ]
  },
  {
   "cell_type": "markdown",
   "id": "ada7769f",
   "metadata": {},
   "source": [
    "##### Degree Assortativity - Shows whether high-degree artists link to other high-degree artists"
   ]
  },
  {
   "cell_type": "code",
   "execution_count": 8,
   "id": "b13f5f15",
   "metadata": {},
   "outputs": [
    {
     "name": "stdout",
     "output_type": "stream",
     "text": [
      "Degree assortativity coefficient: 0.0086\n"
     ]
    }
   ],
   "source": [
    "# Pearson correlation of degrees at both ends of edges\n",
    "assortativity = nx.degree_pearson_correlation_coefficient(H)\n",
    "print(f\"Degree assortativity coefficient: {assortativity:.4f}\")"
   ]
  },
  {
   "cell_type": "markdown",
   "id": "b7a05c9b",
   "metadata": {},
   "source": [
    "The degree assortativity coefficient is 0.0086, which is very close to zero. This indicates that there is essentially no clear tendency for high-degree artists to connect preferentially with other high-degree artists or with low-degree ones. In other words, links in the network appear to be placed without strong degree-based preference."
   ]
  },
  {
   "cell_type": "markdown",
   "id": "7afa00e9",
   "metadata": {},
   "source": [
    "##### Transitivity (Global Clustering) - Measures overall triadic closure: ratio of closed triangles to possible triangles"
   ]
  },
  {
   "cell_type": "code",
   "execution_count": 9,
   "id": "5774b163",
   "metadata": {},
   "outputs": [
    {
     "name": "stdout",
     "output_type": "stream",
     "text": [
      "Transitivity (global clustering): 0.2027\n"
     ]
    }
   ],
   "source": [
    "# Global clustering (transitivity) on the undirected largest component\n",
    "transitivity = nx.transitivity(H)\n",
    "print(f\"Transitivity (global clustering): {transitivity:.4f}\")"
   ]
  },
  {
   "cell_type": "markdown",
   "id": "6b7c4b4e",
   "metadata": {},
   "source": [
    "The global clustering coefficient (transitivity) is 0.2027, meaning that about 20% of all possible triangles in the network are actually closed. This shows that there is some tendency for artists to form interconnected groups, but the overall level of triadic closure is relatively modest."
   ]
  },
  {
   "cell_type": "markdown",
   "id": "e5d190b2",
   "metadata": {},
   "source": [
    "##### Top Performers by Degree – Highlights the most referenced artists (in-degree) and the most outwardly connected artists (out-degree)"
   ]
  },
  {
   "cell_type": "code",
   "execution_count": 14,
   "id": "4a64803d",
   "metadata": {},
   "outputs": [
    {
     "name": "stdout",
     "output_type": "stream",
     "text": [
      "Top 10 performers by in-degree:\n",
      "Led Zeppelin: 119\n",
      "Bob Dylan: 95\n",
      "Queen (band): 88\n",
      "Metallica: 85\n",
      "David Bowie: 83\n",
      "Jimi Hendrix: 77\n",
      "Black Sabbath: 74\n",
      "Nirvana (band): 74\n",
      "U2: 73\n",
      "Kiss (band): 72\n",
      "\n",
      "Top 10 performers by out-degree:\n",
      "Alice in Chains: 74\n",
      "Deep Purple: 71\n",
      "Black Sabbath: 60\n",
      "Def Leppard: 52\n",
      "Bryan Adams: 51\n",
      "Guns N' Roses: 51\n",
      "Metallica: 47\n",
      "Rush (band): 47\n",
      "Queen (band): 45\n",
      "The Smashing Pumpkins: 44\n"
     ]
    }
   ],
   "source": [
    "# Top 10 by in-degree\n",
    "top_in = sorted(G.in_degree(), key=lambda x: x[1], reverse=True)[:10]\n",
    "# Top 10 by out-degree\n",
    "top_out = sorted(G.out_degree(), key=lambda x: x[1], reverse=True)[:10]\n",
    "\n",
    "print(\"Top 10 performers by in-degree:\")\n",
    "for name, deg in top_in:\n",
    "    print(f\"{name}: {deg}\")\n",
    "\n",
    "print(\"\\nTop 10 performers by out-degree:\")\n",
    "for name, deg in top_out:\n",
    "    print(f\"{name}: {deg}\")\n"
   ]
  },
  {
   "cell_type": "markdown",
   "id": "39e422dc",
   "metadata": {},
   "source": [
    "The in-degree ranking highlights famous and influential artists like Led Zeppelin, Bob Dylan, and Queen, who receive the most incoming links from other performers. The out-degree ranking instead reflects pages with many outgoing references, such as Alice in Chains and Deep Purple, which include long lists of related acts and influences. A few bands like Metallica, Queen, and Black Sabbath appear in both lists, showing that they are both highly influential and well connected in the network."
   ]
  },
  {
   "cell_type": "markdown",
   "id": "846caa28",
   "metadata": {},
   "source": [
    "##### Longest Wikipedia Entries – Captures which artists have the most extensive pages"
   ]
  },
  {
   "cell_type": "code",
   "execution_count": 15,
   "id": "42c51027",
   "metadata": {},
   "outputs": [
    {
     "name": "stdout",
     "output_type": "stream",
     "text": [
      "Top 10 longest Wikipedia entries:\n",
      "Guns N' Roses: 60853 words\n",
      "Coldplay: 47028 words\n",
      "Marilyn Manson (band): 46032 words\n",
      "Queen (band): 45896 words\n",
      "The Rolling Stones: 44022 words\n",
      "U2: 43048 words\n",
      "Bob Dylan: 42509 words\n",
      "David Bowie: 42408 words\n",
      "Paul McCartney: 42396 words\n",
      "Elton John: 41255 words\n"
     ]
    }
   ],
   "source": [
    "top_content = sorted(G.nodes(data=True), key=lambda x: x[1].get(\"word_count\", 0), reverse=True)[:10]\n",
    "\n",
    "print(\"Top 10 longest Wikipedia entries:\")\n",
    "for node, attr in top_content:\n",
    "    print(f\"{node}: {attr['word_count']} words\")\n"
   ]
  },
  {
   "cell_type": "markdown",
   "id": "c13db6be",
   "metadata": {},
   "source": [
    "The longest Wikipedia entries belong to globally popular artists such as Guns N’ Roses, Coldplay, and Queen, each with tens of thousands of words. These long pages reflect not only their cultural importance but also the extensive documentation of their careers, discographies, and influence. The overlap with top in-degree performers like Queen, Bob Dylan, and David Bowie shows that highly influential artists also tend to have more detailed Wikipedia coverage."
   ]
  },
  {
   "cell_type": "markdown",
   "id": "fc3efb6a",
   "metadata": {},
   "source": [
    "##### In-degree Histogram Plot"
   ]
  },
  {
   "cell_type": "code",
   "execution_count": 10,
   "id": "b95af766",
   "metadata": {},
   "outputs": [
    {
     "data": {
      "image/png": "[encoded data removed]",
      "text/plain": [
       "<Figure size 700x500 with 1 Axes>"
      ]
     },
     "metadata": {},
     "output_type": "display_data"
    }
   ],
   "source": [
    "# Compute degree sequences\n",
    "in_degrees = [d for n, d in G.in_degree()]\n",
    "\n",
    "# Plot histogram of in-degree\n",
    "plt.figure(figsize=(7,5))\n",
    "plt.hist(in_degrees, bins=50, color=\"steelblue\", edgecolor=\"black\", alpha=0.7)\n",
    "plt.title(\"In-degree Distribution of Rock Performer Network\", fontsize=14)\n",
    "plt.xlabel(\"In-degree (number of incoming links)\", fontsize=12)\n",
    "plt.ylabel(\"Frequency\", fontsize=12)\n",
    "plt.grid(alpha=0.3)\n",
    "plt.show()"
   ]
  },
  {
   "cell_type": "markdown",
   "id": "88815725",
   "metadata": {},
   "source": [
    "The in-degree distribution is highly right skewed, with most artists receiving only a small number of incoming links, while a few well known performers attract a very large number. This creates a heavy tailed pattern that suggests the presence of preferential attachment, where already popular or influential artists are more likely to gain new links. The result is a network structure in which a small set of hubs dominate incoming references, while the majority of artists remain relatively less connected."
   ]
  },
  {
   "cell_type": "markdown",
   "id": "eab3440b",
   "metadata": {},
   "source": [
    "##### Out-degree Histogram plot"
   ]
  },
  {
   "cell_type": "code",
   "execution_count": 11,
   "id": "f96eeb8f",
   "metadata": {},
   "outputs": [
    {
     "data": {
      "image/png": "[encoded data removed]",
      "text/plain": [
       "<Figure size 700x500 with 1 Axes>"
      ]
     },
     "metadata": {},
     "output_type": "display_data"
    }
   ],
   "source": [
    "# Compute degree sequences\n",
    "out_degrees = [d for n, d in G.out_degree()]\n",
    "\n",
    "\n",
    "# Plot histogram of out-degree\n",
    "plt.figure(figsize=(7,5))\n",
    "plt.hist(out_degrees, bins=50, color=\"darkorange\", edgecolor=\"black\", alpha=0.7)\n",
    "plt.title(\"Out-degree Distribution of Rock Performer Network\", fontsize=14)\n",
    "plt.xlabel(\"Out-degree (number of outgoing links)\", fontsize=12)\n",
    "plt.ylabel(\"Frequency\", fontsize=12)\n",
    "plt.grid(alpha=0.3)\n",
    "plt.show()"
   ]
  },
  {
   "cell_type": "markdown",
   "id": "97d71cce",
   "metadata": {},
   "source": [
    "The out-degree distribution is less skewed and more evenly spread compared to the in-degree distribution. Many artists have a moderate number of outgoing links, which reflects how Wikipedia pages often include references to related acts, influences, or collaborations. Unlike in-degree, which reflects performer popularity, the out-degree mainly depends on how detailed or well-edited a page is, leading to a smoother distribution."
   ]
  },
  {
   "cell_type": "markdown",
   "id": "a667ca45",
   "metadata": {},
   "source": [
    "##### Comparison of Out-degree with a random network"
   ]
  },
  {
   "cell_type": "code",
   "execution_count": 12,
   "id": "f8c55b56",
   "metadata": {},
   "outputs": [
    {
     "data": {
      "image/png": "[encoded data removed]",
      "text/plain": [
       "<Figure size 700x500 with 1 Axes>"
      ]
     },
     "metadata": {},
     "output_type": "display_data"
    }
   ],
   "source": [
    "# Generate random network with same N, M\n",
    "random_graph = nx.gnm_random_graph(num_nodes, num_edges, directed=True)\n",
    "random_out_degrees = [d for n, d in random_graph.out_degree()]\n",
    "\n",
    "plt.figure(figsize=(7,5))\n",
    "plt.hist(out_degrees, bins=50, alpha=0.7, label=\"Performer network\", color=\"darkorange\")\n",
    "plt.hist(random_out_degrees, bins=50, alpha=0.5, label=\"Random network\", color=\"gray\")\n",
    "plt.title(\"Comparison of Out-degree Distributions\", fontsize=14)\n",
    "plt.xlabel(\"Out-degree\", fontsize=12)\n",
    "plt.ylabel(\"Frequency\", fontsize=12)\n",
    "plt.legend()\n",
    "plt.grid(alpha=0.3)\n",
    "plt.show()"
   ]
  },
  {
   "cell_type": "markdown",
   "id": "939dab2c",
   "metadata": {},
   "source": [
    "When compared to a random network with the same size, the out-degree distribution of the performer network is noticeably broader and more uneven. The random network shows a narrow peak around the average degree, as expected from its uniform linking pattern, while the performer network has a wider spread with many nodes having very high or very low out-degrees. This difference highlights that the performer network is not random but shaped by editorial choices, with some pages linking to a large number of related artists while others contain far fewer references."
   ]
  },
  {
   "cell_type": "markdown",
   "id": "847cb0ee",
   "metadata": {},
   "source": [
    "##### Comparison of In-degree with a Scale free model"
   ]
  },
  {
   "cell_type": "code",
   "execution_count": 13,
   "id": "96ae67ae",
   "metadata": {},
   "outputs": [
    {
     "data": {
      "image/png": "[encoded data removed]",
      "text/plain": [
       "<Figure size 700x500 with 1 Axes>"
      ]
     },
     "metadata": {},
     "output_type": "display_data"
    }
   ],
   "source": [
    "# Barabási-Albert scale-free model (approximation for in-degree distribution)\n",
    "scale_free = nx.barabasi_albert_graph(num_nodes, int(num_edges/num_nodes))\n",
    "scale_free_in_degrees = [d for n, d in scale_free.degree()]\n",
    "\n",
    "plt.figure(figsize=(7,5))\n",
    "plt.hist(in_degrees, bins=50, alpha=0.7, label=\"Performer network\", color=\"steelblue\")\n",
    "plt.hist(scale_free_in_degrees, bins=50, alpha=0.5, label=\"Scale-free model\", color=\"gray\")\n",
    "plt.title(\"Comparison of In-degree Distributions\", fontsize=14)\n",
    "plt.xlabel(\"In-degree\", fontsize=12)\n",
    "plt.ylabel(\"Frequency\", fontsize=12)\n",
    "plt.legend()\n",
    "plt.grid(alpha=0.3)\n",
    "plt.show()"
   ]
  },
  {
   "cell_type": "markdown",
   "id": "75b634a2",
   "metadata": {},
   "source": [
    "The in-degree distribution of the performer network shows a heavy-tailed shape similar to the scale-free model, with many artists receiving only a few links and a few hubs accumulating very large numbers. However, the performer network deviates from the smooth pattern of the model, especially in the middle range, where the distribution is more irregular. This suggests that while the network broadly reflects preferential attachment, real-world editorial and cultural factors produce variations not captured by the pure scale-free model."
   ]
  },
  {
   "cell_type": "markdown",
   "id": "b22cedf2",
   "metadata": {},
   "source": [
    "#### Part 3: Let's build a simple visualization of the network"
   ]
  },
  {
   "cell_type": "code",
   "execution_count": null,
   "id": "69c8c838",
   "metadata": {},
   "outputs": [],
   "source": [
    "import networkx as nx\n",
    "import matplotlib.pyplot as plt\n",
    "import numpy as np\n",
    "from matplotlib.colors import LinearSegmentedColormap\n",
    "import warnings\n",
    "warnings.filterwarnings('ignore')\n",
    "\n",
    "def visualize_network(G_directed, figsize=(16, 12)):\n",
    "    print(\"=\" * 60)\n",
    "    print(\"NETWORK VISUALIZATION\")\n",
    "    print(\"=\" * 60)\n",
    "    \n",
    "    # 1. Convert directed graph to undirected\n",
    "    print(\"\\n1. Converting directed graph to undirected...\")\n",
    "    G_undirected = G_directed.to_undirected()\n",
    "    \n",
    "    print(f\"Original directed graph: {G_directed.number_of_nodes()} nodes, {G_directed.number_of_edges()} edges\")\n",
    "    print(f\"Undirected graph: {G_undirected.number_of_nodes()} nodes, {G_undirected.number_of_edges()} edges\")\n",
    "\n",
    "    # 2. Prepare node attributes for visualization\n",
    "    print(\"\\n2. Preparing node attributes...\")\n",
    "    \n",
    "    # Calculate degrees for undirected graph\n",
    "    degrees = dict(G_undirected.degree())\n",
    "    print(f\"Degree range: {min(degrees.values())} - {max(degrees.values())}\")\n",
    "    \n",
    "    # Extract content length\n",
    "    content_lengths = {}\n",
    "    content_attr_name = None\n",
    "    \n",
    "    for attr in ['length of content', 'content_length', 'length', 'size', 'weight']:\n",
    "        if any(attr in G_undirected.nodes[node] for node in G_undirected.nodes()):\n",
    "            content_attr_name = attr\n",
    "            content_lengths = {node: G_undirected.nodes[node].get(attr, 0) \n",
    "                             for node in G_undirected.nodes()}\n",
    "            break\n",
    "    \n",
    "    if not content_lengths or all(v == 0 for v in content_lengths.values()):\n",
    "        print(\"No content length attribute found. Generating random values for demonstration...\")\n",
    "        content_lengths = {node: np.random.randint(500, 3000) \n",
    "                          for node in G_undirected.nodes()}\n",
    "        content_attr_name = \"generated_content_length\"\n",
    "    \n",
    "    print(f\"Content length range: {min(content_lengths.values())} - {max(content_lengths.values())}\")\n",
    "    print(f\"Using attribute: '{content_attr_name}'\")\n",
    "    \n",
    "    # 3. Prepare visualization parameters\n",
    "    \n",
    "    # Node sizes based on degree \n",
    "    min_size = 100\n",
    "    max_size = 1000\n",
    "    degree_values = list(degrees.values())\n",
    "    min_degree = min(degree_values)\n",
    "    max_degree = max(degree_values)\n",
    "    \n",
    "    if max_degree == min_degree:\n",
    "        node_sizes = [500 for _ in degree_values]  # All same size if all degrees equal\n",
    "    else:\n",
    "        node_sizes = [min_size + (max_size - min_size) * \n",
    "                     (degree - min_degree) / (max_degree - min_degree) \n",
    "                     for degree in degree_values]\n",
    "    \n",
    "    # Node colors based on content length\n",
    "    content_values = list(content_lengths.values())\n",
    "    \n",
    "    # Create figure with subplots\n",
    "    fig, axes = plt.subplots(2, 2, figsize=figsize)\n",
    "    fig.suptitle('Network Visualization with Different Layouts', fontsize=16, fontweight='bold')\n",
    "    \n",
    "    # Color schemes to try\n",
    "    colormaps = ['viridis', 'plasma', 'Blues', 'Reds']\n",
    "    layout_functions = [nx.spring_layout, nx.kamada_kawai_layout, nx.circular_layout, nx.random_layout]\n",
    "    layout_names = ['Spring Layout', 'Kamada-Kawai Layout', 'Circular Layout', 'Random Layout']\n",
    "    \n",
    "    # Create visualizations\n",
    "    for idx, (ax, cmap, layout_func, layout_name) in enumerate(zip(axes.flat, colormaps, layout_functions, layout_names)):\n",
    "        \n",
    "        print(f\"\\n3.{idx+1}. Creating {layout_name}...\")\n",
    "        \n",
    "        try:\n",
    "            # Calculate layout positions\n",
    "            if layout_func == nx.kamada_kawai_layout:\n",
    "                # Kamada-Kawai can be slow for large graphs, add parameters for efficiency\n",
    "                if G_undirected.number_of_nodes() > 100:\n",
    "                    pos = layout_func(G_undirected, scale=1.0)\n",
    "                else:\n",
    "                    pos = layout_func(G_undirected, scale=1.0)\n",
    "            elif layout_func == nx.spring_layout:\n",
    "                # Spring layout parameters for better results\n",
    "                pos = layout_func(G_undirected, k=1, iterations=50, seed=42)\n",
    "            else:\n",
    "                pos = layout_func(G_undirected)\n",
    "            \n",
    "            # Draw the network\n",
    "            nodes = nx.draw_networkx_nodes(\n",
    "                G_undirected, pos,\n",
    "                node_color=content_values,\n",
    "                node_size=node_sizes,\n",
    "                cmap=plt.cm.get_cmap(cmap),\n",
    "                alpha=0.8,\n",
    "                ax=ax\n",
    "            )\n",
    "             # Draw edges\n",
    "            nx.draw_networkx_edges(\n",
    "                G_undirected, pos,\n",
    "                alpha=0.6,\n",
    "                edge_color='gray',\n",
    "                width=0.5,\n",
    "                ax=ax\n",
    "            )\n",
    "            \n",
    "            # Draw labels if not too many nodes\n",
    "            if G_undirected.number_of_nodes() <= 20:\n",
    "                nx.draw_networkx_labels(\n",
    "                    G_undirected, pos,\n",
    "                    font_size=8,\n",
    "                    font_color='black',\n",
    "                    font_weight='bold',\n",
    "                    ax=ax\n",
    "                )\n",
    "            \n",
    "            ax.set_title(f'{layout_name}\\n(Color: Content Length, Size: Degree)', fontsize=12)\n",
    "            ax.axis('off')\n",
    "            \n",
    "            # Add colorbar for the first plot\n",
    "            if idx == 0:\n",
    "                plt.colorbar(nodes, ax=ax, label=f'Content Length ({content_attr_name})', shrink=0.6)\n",
    "        \n",
    "        except Exception as e:\n",
    "            ax.text(0.5, 0.5, f'Error with {layout_name}:\\n{str(e)}', \n",
    "                   ha='center', va='center', transform=ax.transAxes)\n",
    "            ax.set_title(f'{layout_name} (Error)')\n",
    "            ax.axis('off')\n",
    "    \n",
    "    plt.tight_layout()\n",
    "    plt.show()\n",
    "    # 4. Create detailed comparison of Spring vs Kamada-Kawai\n",
    "    print(\"\\n4. Detailed comparison: Spring Layout vs Kamada-Kawai Layout\")\n",
    "    \n",
    "    fig, (ax1, ax2) = plt.subplots(1, 2, figsize=(20, 8))\n",
    "    fig.suptitle('Detailed Comparison: Spring Layout vs Kamada-Kawai Layout', fontsize=16, fontweight='bold')\n",
    "    \n",
    "    # Spring Layout\n",
    "    try:\n",
    "        pos_spring = nx.spring_layout(G_undirected, k=1, iterations=50, seed=42)\n",
    "        \n",
    "        nodes1 = nx.draw_networkx_nodes(\n",
    "            G_undirected, pos_spring,\n",
    "            node_color=content_values,\n",
    "            node_size=node_sizes,\n",
    "            cmap='viridis',\n",
    "            alpha=0.8,\n",
    "            ax=ax1\n",
    "        )\n",
    "        \n",
    "        nx.draw_networkx_edges(\n",
    "            G_undirected, pos_spring,\n",
    "            alpha=0.6,\n",
    "            edge_color='gray',\n",
    "            width=1.0,\n",
    "            ax=ax1\n",
    "        )\n",
    "        \n",
    "        if G_undirected.number_of_nodes() <= 30:\n",
    "            nx.draw_networkx_labels(\n",
    "                G_undirected, pos_spring,\n",
    "                font_size=10,\n",
    "                font_color='white',\n",
    "                font_weight='bold',\n",
    "                ax=ax1\n",
    "            )\n",
    "\n",
    "        ax1.set_title('Spring Layout\\n(Force-directed: nodes repel, edges attract)', fontsize=14)\n",
    "        ax1.axis('off')\n",
    "        \n",
    "        # Add colorbar\n",
    "        cbar1 = plt.colorbar(nodes1, ax=ax1, label=f'Content Length ({content_attr_name})')\n",
    "        \n",
    "    except Exception as e:\n",
    "        ax1.text(0.5, 0.5, f'Spring Layout Error:\\n{str(e)}', ha='center', va='center', transform=ax1.transAxes)\n",
    "        ax1.set_title('Spring Layout (Error)')\n",
    "    \n",
    "    # Kamada-Kawai Layout\n",
    "    try:\n",
    "        if G_undirected.number_of_nodes() > 100:\n",
    "            pos_kk = nx.kamada_kawai_layout(G_undirected, scale=1.0)\n",
    "        else:\n",
    "            pos_kk = nx.kamada_kawai_layout(G_undirected, scale=1.0)\n",
    "        \n",
    "        nodes2 = nx.draw_networkx_nodes(\n",
    "            G_undirected, pos_kk,\n",
    "            node_color=content_values,\n",
    "            node_size=node_sizes,\n",
    "            cmap='viridis',\n",
    "            alpha=0.8,\n",
    "            ax=ax2\n",
    "        )\n",
    "        nx.draw_networkx_edges(\n",
    "            G_undirected, pos_kk,\n",
    "            alpha=0.6,\n",
    "            edge_color='gray',\n",
    "            width=1.0,\n",
    "            ax=ax2\n",
    "        )\n",
    "        \n",
    "        if G_undirected.number_of_nodes() <= 30:\n",
    "            nx.draw_networkx_labels(\n",
    "                G_undirected, pos_kk,\n",
    "                font_size=10,\n",
    "                font_color='white',\n",
    "                font_weight='bold',\n",
    "                ax=ax2\n",
    "            )\n",
    "        \n",
    "        ax2.set_title('Kamada-Kawai Layout\\n(Energy-based: minimizes overall energy)', fontsize=14)\n",
    "        ax2.axis('off')\n",
    "        \n",
    "        # Add colorbar\n",
    "        cbar2 = plt.colorbar(nodes2, ax=ax2, label=f'Content Length ({content_attr_name})')\n",
    "        \n",
    "    except Exception as e:\n",
    "        ax2.text(0.5, 0.5, f'Kamada-Kawai Layout Error:\\n{str(e)}', ha='center', va='center', transform=ax2.transAxes)\n",
    "        ax2.set_title('Kamada-Kawai Layout (Error)')\n",
    "    \n",
    "    plt.tight_layout()\n",
    "    plt.show()\n",
    "\n",
    "    # 5. Create a size legend\n",
    "    print(\"\\n5. Creating size legend...\")\n",
    "    \n",
    "    fig, ax = plt.subplots(1, 1, figsize=(10, 6))\n",
    "    \n",
    "    # Create size legend\n",
    "    unique_degrees = sorted(set(degrees.values()))\n",
    "    if len(unique_degrees) > 10:\n",
    "        # Show only a sample if too many unique degrees\n",
    "        step = len(unique_degrees) // 10\n",
    "        unique_degrees = unique_degrees[::step]\n",
    "    \n",
    "    legend_sizes = []\n",
    "    for degree in unique_degrees:\n",
    "        if max_degree == min_degree:\n",
    "            size = 500\n",
    "        else:\n",
    "            size = min_size + (max_size - min_size) * (degree - min_degree) / (max_degree - min_degree)\n",
    "        legend_sizes.append(size)\n",
    "    \n",
    "    # Plot legend\n",
    "    y_positions = np.linspace(0, len(unique_degrees)-1, len(unique_degrees))\n",
    "    scatter = ax.scatter(np.zeros(len(unique_degrees)), y_positions, \n",
    "                        s=legend_sizes, c=unique_degrees, cmap='viridis', alpha=0.7)\n",
    "    \n",
    "    # Add text labels\n",
    "    for i, (degree, size) in enumerate(zip(unique_degrees, legend_sizes)):\n",
    "        ax.text(0.5, i, f'Degree: {degree}', va='center', fontsize=10)\n",
    "    ax.set_xlim(-1, 2)\n",
    "    ax.set_ylim(-0.5, len(unique_degrees)-0.5)\n",
    "    ax.set_ylabel('Node Examples')\n",
    "    ax.set_title('Node Size Legend\\n(Size corresponds to node degree)')\n",
    "    ax.axis('off')\n",
    "    \n",
    "    plt.tight_layout()\n",
    "    plt.show()\n",
    "    \n",
    "    # 6. Print analysis summary\n",
    "    print(\"\\n6. VISUALIZATION SUMMARY:\")\n",
    "    print(\"-\" * 40)\n",
    "    print(f\"• Network converted from directed ({G_directed.number_of_edges()} edges) \"\n",
    "          f\"to undirected ({G_undirected.number_of_edges()} edges)\")\n",
    "    print(f\"• Node sizes scaled by degree (range: {min_degree} - {max_degree})\")\n",
    "    print(f\"• Node colors based on '{content_attr_name}' \"\n",
    "          f\"(range: {min(content_values)} - {max(content_values)})\")\n",
    "    print(f\"• Layouts compared: Spring (force-directed) vs Kamada-Kawai (energy-based)\")\n",
    "    \n",
    "    print(\"\\n• Layout Algorithm Differences:\")\n",
    "    print(\"  - Spring Layout: Fast, good for most networks, emphasizes local structure\")\n",
    "    print(\"  - Kamada-Kawai: Slower but more stable, better for showing global structure\")\n",
    "    print(\"  - Circular: Good for showing all nodes clearly, less emphasis on connections\")\n",
    "    print(\"  - Random: Baseline comparison, no meaningful structure\")\n",
    "    \n",
    "    return G_undirected, pos_spring if 'pos_spring' in locals() else None\n",
    "\n",
    "# Alternative color schemes for different preferences\n",
    "def visualize_with_custom_colors(G_directed, color_scheme='sequential'):\n",
    "    G_undirected = G_directed.to_undirected()\n",
    "    degrees = dict(G_undirected.degree())\n",
    "    \n",
    "    # Get content lengths\n",
    "    content_lengths = {}\n",
    "    for attr in ['length of content', 'content_length', 'length', 'size']:\n",
    "        if any(attr in G_undirected.nodes[node] for node in G_undirected.nodes()):\n",
    "            content_lengths = {node: G_undirected.nodes[node].get(attr, 0) \n",
    "                             for node in G_undirected.nodes()}\n",
    "            break\n",
    "    \n",
    "    if not content_lengths:\n",
    "        content_lengths = {node: np.random.randint(500, 3000) for node in G_undirected.nodes()}\n",
    "    \n",
    "    # Node sizes\n",
    "    degree_values = list(degrees.values())\n",
    "    min_degree, max_degree = min(degree_values), max(degree_values)\n",
    "    if max_degree == min_degree:\n",
    "        node_sizes = [500] * len(degree_values)\n",
    "    else:\n",
    "        node_sizes = [100 + 900 * (d - min_degree) / (max_degree - min_degree) for d in degree_values]\n",
    "    content_values = list(content_lengths.values())\n",
    "    \n",
    "    # Choose colormap based on scheme\n",
    "    if color_scheme == 'sequential':\n",
    "        cmaps = ['Blues', 'Greens', 'Oranges', 'Purples']\n",
    "    elif color_scheme == 'diverging':\n",
    "        cmaps = ['RdBu', 'RdYlBu', 'Spectral', 'coolwarm']\n",
    "    else:  # qualitative\n",
    "        cmaps = ['Set1', 'Set2', 'tab10', 'Pastel1']\n",
    "    \n",
    "    fig, axes = plt.subplots(2, 2, figsize=(16, 12))\n",
    "    fig.suptitle(f'Network Visualization - {color_scheme.title()} Color Schemes', fontsize=16)\n",
    "    \n",
    "    pos = nx.spring_layout(G_undirected, seed=42)\n",
    "    \n",
    "    for ax, cmap in zip(axes.flat, cmaps):\n",
    "        nodes = nx.draw_networkx_nodes(\n",
    "            G_undirected, pos, node_color=content_values, node_size=node_sizes,\n",
    "            cmap=cmap, alpha=0.8, ax=ax\n",
    "        )\n",
    "        nx.draw_networkx_edges(G_undirected, pos, alpha=0.6, ax=ax)\n",
    "        \n",
    "        if G_undirected.number_of_nodes() <= 20:\n",
    "            nx.draw_networkx_labels(G_undirected, pos, font_size=8, ax=ax)\n",
    "        \n",
    "        ax.set_title(f'Colormap: {cmap}')\n",
    "        ax.axis('off')\n",
    "        plt.colorbar(nodes, ax=ax, shrink=0.6)\n",
    "    \n",
    "    plt.tight_layout()\n",
    "    plt.show()"
   ]
  },
  {
   "cell_type": "code",
   "execution_count": null,
   "id": "1adb6d2a",
   "metadata": {},
   "outputs": [],
   "source": [
    "# Create or load your graph\n",
    "G_directed = nx.read_gexf(\"Files/artists_graph_with_stats.gexf\")\n",
    "\n",
    "# Run the main visualization\n",
    "G_undirected, pos = visualize_network(G_directed)"
   ]
  },
  {
   "cell_type": "markdown",
   "id": "24455aaa",
   "metadata": {},
   "source": [
    "For all the subplots, the node size shows how many connections a node has (degree), and the color shows its generated content length. Edges are drawn lightly.\n",
    "\n",
    "For Figure 1:\n",
    "\n",
    "- **(Top-left) Spring layout — force-directed (Fruchterman–Reingold):** This layout balances between nodes and attraction along edges pulling tightly connected groups together. Hubs occupy central positions with many spokes. \n",
    "- **(Top right) Kamada - Kawai layout - energy minimization:** Places nodes so that their distances on the plot match their distances in the network. The result is more balanced and symmetric than Spring, but clusters in the center can still look crowded.\n",
    "- **(Bottom left) Circular layout, peripheral ordering:** Puts all nodes evenly around a circle. This makes every node visible and still shows who the big hubs are, but it’s harder to see communities or paths since distance on the circle doesn’t reflect network distance.\n",
    "- **(Bottom right) Random layout - baseline:** Places nodes randomly. This doesn’t show any real structure but works as a baseline for comparison.\n",
    "\n",
    "For Figure 2: \n",
    "\n",
    "- **Spring (left):** Emphasizes local structure. Tight clusters and hub-and-spoke patterns pop out. Great for spotting communities and gateway nodes bridging dense groups.\n",
    "- **Kamada-Kawai (right):** Emphasizes global geometry. Overall shape and relative cluster spacing is more faithful to graph distances. Useful when you care about how subgroups are positioned relative to each other rather than just how cohesive each group is.\n",
    "\n",
    "Because color and size represent different things, we can check whether long-content nodes are also the most connected. In this case, size (degree) and color (content length) don’t always match, showing that long content isn’t just tied to high connectivity.\n",
    "\n",
    "For Figure 3:\n",
    "\n",
    "The legend shows how node size scales with degree. Small nodes are lightly connected (eg degree ≈ 17–33), while the very large ones are hubs (≈ 66–81). In the full network, the biggest nodes have degree up to 127, acting as the main connectors\n",
    "\n",
    "Overall, we simplified the Rock Music network by making it undirected (7328 edges -> 6025 edges). Node size shows degree (1-127), and color shows generated content length (510-2999). \n",
    "- Spring: best for seeing clusters and hubs.\n",
    "- Kamada - Kawai: better for the overall geometry between groups\n",
    "- Circular: ensures visibility of all nodes but doesn't show structure well\n",
    "- Random: a control layout with no real information\n",
    "\n",
    "Together, these layouts show that the network is highly connected, with several hubs and overlapping communities. Content length varies across the graph instead of being to the most connected nodes."
   ]
  },
  {
   "cell_type": "markdown",
   "id": "ce2eb8c5",
   "metadata": {},
   "source": [
    "# References"
   ]
  },
  {
   "cell_type": "markdown",
   "id": "9a50c9fd",
   "metadata": {},
   "source": [
    "- NetworkX (Spring, Kamada-Kawai, Circular, Random), for standard layouts for the visualizations\n",
    "- Fruchterman, T. M. J., & Reingold, E. M. (1991). Graph drawing by force-directed placement. Software: Practice and Experience, 21(11), 1129–1164, for Spring layout\n",
    "- Kamada, T., & Kawai, S. (1989). An algorithm for drawing general undirected graphs. Information Processing Letters, 31(1), 7–15, for Kamada-Kawai layout\n",
    "- Newman, M. E. J. (2010). Networks: An Introduction. Oxford University Press. (Ch. 7 covers visualization basics), for general background on network visualizations"
   ]
  }
 ],
 "metadata": {
  "kernelspec": {
   "display_name": "sdav_env",
   "language": "python",
   "name": "python3"
  },
  "language_info": {
   "codemirror_mode": {
    "name": "ipython",
    "version": 3
   },
   "file_extension": ".py",
   "mimetype": "text/x-python",
   "name": "python",
   "nbconvert_exporter": "python",
   "pygments_lexer": "ipython3",
   "version": "3.10.16"
  }
 },
 "nbformat": 4,
 "nbformat_minor": 5
}
