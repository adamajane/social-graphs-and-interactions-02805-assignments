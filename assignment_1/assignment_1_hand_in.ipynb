{
 "cells": [
  {
   "cell_type": "markdown",
   "id": "c1fe9ff6",
   "metadata": {},
   "source": [
    "# Group 107"
   ]
  },
  {
   "cell_type": "markdown",
   "id": "b82045b4",
   "metadata": {},
   "source": [
    "# Contribution"
   ]
  },
  {
   "cell_type": "markdown",
   "id": "57fb6d2b",
   "metadata": {},
   "source": [
    "# Assignment 1.1:"
   ]
  },
  {
   "cell_type": "markdown",
   "id": "cb95837b",
   "metadata": {},
   "source": [
    "# Assignment 1.2:"
   ]
  },
  {
   "cell_type": "markdown",
   "id": "ce2eb8c5",
   "metadata": {},
   "source": [
    "# References"
   ]
  }
 ],
 "metadata": {
  "kernelspec": {
   "display_name": ".venv (3.13.7)",
   "language": "python",
   "name": "python3"
  },
  "language_info": {
   "name": "python",
   "version": "3.13.7"
  }
 },
 "nbformat": 4,
 "nbformat_minor": 5
}
